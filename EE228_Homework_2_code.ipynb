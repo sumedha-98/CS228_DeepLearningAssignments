{
  "nbformat": 4,
  "nbformat_minor": 0,
  "metadata": {
    "colab": {
      "provenance": []
    },
    "kernelspec": {
      "name": "python3",
      "display_name": "Python 3"
    },
    "language_info": {
      "name": "python"
    }
  },
  "cells": [
    {
      "cell_type": "markdown",
      "source": [
        "#Question 1"
      ],
      "metadata": {
        "id": "gv7zh49IUEs_"
      }
    },
    {
      "cell_type": "code",
      "execution_count": 1,
      "metadata": {
        "colab": {
          "base_uri": "https://localhost:8080/"
        },
        "id": "2lYCOZAbqeqQ",
        "outputId": "fa451e00-1896-4a14-9d17-462b033f5199"
      },
      "outputs": [
        {
          "output_type": "stream",
          "name": "stdout",
          "text": [
            "Looking in indexes: https://pypi.org/simple, https://us-python.pkg.dev/colab-wheels/public/simple/\n",
            "Collecting idx2numpy\n",
            "  Downloading idx2numpy-1.2.3.tar.gz (6.8 kB)\n",
            "  Preparing metadata (setup.py) ... \u001b[?25l\u001b[?25hdone\n",
            "Requirement already satisfied: numpy in /usr/local/lib/python3.10/dist-packages (from idx2numpy) (1.22.4)\n",
            "Requirement already satisfied: six in /usr/local/lib/python3.10/dist-packages (from idx2numpy) (1.16.0)\n",
            "Building wheels for collected packages: idx2numpy\n",
            "  Building wheel for idx2numpy (setup.py) ... \u001b[?25l\u001b[?25hdone\n",
            "  Created wheel for idx2numpy: filename=idx2numpy-1.2.3-py3-none-any.whl size=7918 sha256=31e5adb7cf88a655b897bb9defa8fecfe47dba0907fab108003c596ef0fc1a09\n",
            "  Stored in directory: /root/.cache/pip/wheels/e0/f4/e7/643fc5f932ec2ff92997f43f007660feb23f948aa8486f1107\n",
            "Successfully built idx2numpy\n",
            "Installing collected packages: idx2numpy\n",
            "Successfully installed idx2numpy-1.2.3\n"
          ]
        }
      ],
      "source": [
        "import gzip\n",
        "!pip install idx2numpy\n",
        "import idx2numpy\n",
        "import numpy as np\n",
        "from google.colab.patches import cv2_imshow, cv2\n",
        "import pandas as pd"
      ]
    },
    {
      "cell_type": "code",
      "source": [
        "!wget http://yann.lecun.com/exdb/mnist/train-images-idx3-ubyte.gz\n",
        "\n",
        "\n",
        "!wget http://yann.lecun.com/exdb/mnist/train-labels-idx1-ubyte.gz\n",
        "\n",
        "\n",
        "!wget http://yann.lecun.com/exdb/mnist/t10k-images-idx3-ubyte.gz\n",
        "\n",
        "\n",
        "!wget http://yann.lecun.com/exdb/mnist/t10k-labels-idx1-ubyte.gz"
      ],
      "metadata": {
        "colab": {
          "base_uri": "https://localhost:8080/"
        },
        "id": "GnzXEpU7tS3m",
        "outputId": "1e90c1ff-72d1-4e4a-c040-411dc06f53b4"
      },
      "execution_count": 2,
      "outputs": [
        {
          "output_type": "stream",
          "name": "stdout",
          "text": [
            "--2023-05-06 04:39:22--  http://yann.lecun.com/exdb/mnist/train-images-idx3-ubyte.gz\n",
            "Resolving yann.lecun.com (yann.lecun.com)... 104.21.29.36, 172.67.171.76, 2606:4700:3036::ac43:ab4c, ...\n",
            "Connecting to yann.lecun.com (yann.lecun.com)|104.21.29.36|:80... connected.\n",
            "HTTP request sent, awaiting response... 200 OK\n",
            "Length: 9912422 (9.5M) [application/x-gzip]\n",
            "Saving to: ‘train-images-idx3-ubyte.gz’\n",
            "\n",
            "\r          train-ima   0%[                    ]       0  --.-KB/s               \rtrain-images-idx3-u 100%[===================>]   9.45M  --.-KB/s    in 0.1s    \n",
            "\n",
            "2023-05-06 04:39:22 (88.1 MB/s) - ‘train-images-idx3-ubyte.gz’ saved [9912422/9912422]\n",
            "\n",
            "--2023-05-06 04:39:23--  http://yann.lecun.com/exdb/mnist/train-labels-idx1-ubyte.gz\n",
            "Resolving yann.lecun.com (yann.lecun.com)... 104.21.29.36, 172.67.171.76, 2606:4700:3036::ac43:ab4c, ...\n",
            "Connecting to yann.lecun.com (yann.lecun.com)|104.21.29.36|:80... connected.\n",
            "HTTP request sent, awaiting response... 200 OK\n",
            "Length: 28881 (28K) [application/x-gzip]\n",
            "Saving to: ‘train-labels-idx1-ubyte.gz’\n",
            "\n",
            "train-labels-idx1-u 100%[===================>]  28.20K  --.-KB/s    in 0s      \n",
            "\n",
            "2023-05-06 04:39:23 (281 MB/s) - ‘train-labels-idx1-ubyte.gz’ saved [28881/28881]\n",
            "\n",
            "--2023-05-06 04:39:23--  http://yann.lecun.com/exdb/mnist/t10k-images-idx3-ubyte.gz\n",
            "Resolving yann.lecun.com (yann.lecun.com)... 104.21.29.36, 172.67.171.76, 2606:4700:3036::ac43:ab4c, ...\n",
            "Connecting to yann.lecun.com (yann.lecun.com)|104.21.29.36|:80... connected.\n",
            "HTTP request sent, awaiting response... 200 OK\n",
            "Length: 1648877 (1.6M) [application/x-gzip]\n",
            "Saving to: ‘t10k-images-idx3-ubyte.gz’\n",
            "\n",
            "t10k-images-idx3-ub 100%[===================>]   1.57M  --.-KB/s    in 0.05s   \n",
            "\n",
            "2023-05-06 04:39:23 (33.3 MB/s) - ‘t10k-images-idx3-ubyte.gz’ saved [1648877/1648877]\n",
            "\n",
            "--2023-05-06 04:39:23--  http://yann.lecun.com/exdb/mnist/t10k-labels-idx1-ubyte.gz\n",
            "Resolving yann.lecun.com (yann.lecun.com)... 104.21.29.36, 172.67.171.76, 2606:4700:3036::ac43:ab4c, ...\n",
            "Connecting to yann.lecun.com (yann.lecun.com)|104.21.29.36|:80... connected.\n",
            "HTTP request sent, awaiting response... 200 OK\n",
            "Length: 4542 (4.4K) [application/x-gzip]\n",
            "Saving to: ‘t10k-labels-idx1-ubyte.gz’\n",
            "\n",
            "t10k-labels-idx1-ub 100%[===================>]   4.44K  --.-KB/s    in 0s      \n",
            "\n",
            "2023-05-06 04:39:23 (493 MB/s) - ‘t10k-labels-idx1-ubyte.gz’ saved [4542/4542]\n",
            "\n"
          ]
        }
      ]
    },
    {
      "cell_type": "code",
      "source": [
        "!gzip -d train-images-idx3-ubyte.gz\n",
        "\n",
        "!gzip -d train-labels-idx1-ubyte.gz\n",
        "\n",
        "!gzip -d t10k-images-idx3-ubyte.gz\n",
        "\n",
        "!gzip -d t10k-labels-idx1-ubyte.gz"
      ],
      "metadata": {
        "id": "xSDJ0dE3tXmt"
      },
      "execution_count": 3,
      "outputs": []
    },
    {
      "cell_type": "code",
      "source": [
        "train_images_file = 'train-images-idx3-ubyte'\n",
        "train_lable_file = 'train-labels-idx1-ubyte'\n",
        "test_images_file = 't10k-images-idx3-ubyte'\n",
        "test_lable_file = 't10k-labels-idx1-ubyte'\n",
        "\n",
        "X_train = idx2numpy.convert_from_file(train_images_file)\n",
        "y_train = idx2numpy.convert_from_file(train_lable_file)\n",
        "X_test = idx2numpy.convert_from_file(test_images_file)\n",
        "y_test = idx2numpy.convert_from_file(test_lable_file)"
      ],
      "metadata": {
        "id": "ZFgtmzaVtb_g"
      },
      "execution_count": 4,
      "outputs": []
    },
    {
      "cell_type": "code",
      "source": [
        "cv2_imshow(X_train[0])\n",
        "print(y_train.shape)\n",
        "print(X_train.shape)\n",
        "\n",
        "train_input = np.reshape(X_train, (X_train.shape[0], X_train.shape[1] * X_train.shape[2]))\n",
        "test_input = np.reshape(X_test, (X_test.shape[0], X_test.shape[1] * X_test.shape[2]))\n",
        "print(train_input.shape)\n",
        "print(train_input)\n",
        "print(y_train.shape)\n",
        "print(test_input.shape)"
      ],
      "metadata": {
        "colab": {
          "base_uri": "https://localhost:8080/",
          "height": 253
        },
        "id": "LRY6anPutdIt",
        "outputId": "59b3447f-d659-4e01-d552-f1e2c98777ce"
      },
      "execution_count": 5,
      "outputs": [
        {
          "output_type": "display_data",
          "data": {
            "text/plain": [
              "<PIL.Image.Image image mode=L size=28x28 at 0x7FEB8E0F3B50>"
            ],
            "image/png": "[encoded data removed]"
          },
          "metadata": {}
        },
        {
          "output_type": "stream",
          "name": "stdout",
          "text": [
            "(60000,)\n",
            "(60000, 28, 28)\n",
            "(60000, 784)\n",
            "[[0 0 0 ... 0 0 0]\n",
            " [0 0 0 ... 0 0 0]\n",
            " [0 0 0 ... 0 0 0]\n",
            " ...\n",
            " [0 0 0 ... 0 0 0]\n",
            " [0 0 0 ... 0 0 0]\n",
            " [0 0 0 ... 0 0 0]]\n",
            "(60000,)\n",
            "(10000, 784)\n"
          ]
        }
      ]
    },
    {
      "cell_type": "code",
      "source": [
        "y_train_formatted = np.reshape(np.array([1 if y_train[i] > 4 else 0 for i in range(len(y_train))]), (-1, 1))\n",
        "y_test_formatted = np.reshape(np.array([1 if y_test[i] > 4 else 0 for i in range(len(y_test))]), (-1, 1))\n",
        "print(y_train_formatted.shape)\n",
        "print(y_train_formatted)\n",
        "print(y_test_formatted)\n",
        "print(y_test_formatted.shape)"
      ],
      "metadata": {
        "colab": {
          "base_uri": "https://localhost:8080/"
        },
        "id": "w-pn6GhEuVi5",
        "outputId": "41083296-ac7a-4901-b9ef-1044957acaaa"
      },
      "execution_count": 6,
      "outputs": [
        {
          "output_type": "stream",
          "name": "stdout",
          "text": [
            "(60000, 1)\n",
            "[[1]\n",
            " [0]\n",
            " [0]\n",
            " ...\n",
            " [1]\n",
            " [1]\n",
            " [1]]\n",
            "[[1]\n",
            " [0]\n",
            " [0]\n",
            " ...\n",
            " [0]\n",
            " [1]\n",
            " [1]]\n",
            "(10000, 1)\n"
          ]
        }
      ]
    },
    {
      "cell_type": "code",
      "source": [
        "train_input_std = (train_input - np.mean(train_input)) / np.std(train_input)\n",
        "test_input_std = (test_input - np.mean(test_input)) / np.std(test_input)\n",
        "print(train_input.shape)\n",
        "print(test_input.shape)\n",
        "print(pd.DataFrame(train_input_std).describe())"
      ],
      "metadata": {
        "colab": {
          "base_uri": "https://localhost:8080/"
        },
        "id": "kI3DOjlswumT",
        "outputId": "1d1fa3d0-0538-4708-952d-f054368166b0"
      },
      "execution_count": 7,
      "outputs": [
        {
          "output_type": "stream",
          "name": "stdout",
          "text": [
            "(60000, 784)\n",
            "(10000, 784)\n",
            "                0             1             2             3             4    \\\n",
            "count  60000.000000  60000.000000  60000.000000  60000.000000  60000.000000   \n",
            "mean      -0.424074     -0.424074     -0.424074     -0.424074     -0.424074   \n",
            "std        0.000000      0.000000      0.000000      0.000000      0.000000   \n",
            "min       -0.424074     -0.424074     -0.424074     -0.424074     -0.424074   \n",
            "25%       -0.424074     -0.424074     -0.424074     -0.424074     -0.424074   \n",
            "50%       -0.424074     -0.424074     -0.424074     -0.424074     -0.424074   \n",
            "75%       -0.424074     -0.424074     -0.424074     -0.424074     -0.424074   \n",
            "max       -0.424074     -0.424074     -0.424074     -0.424074     -0.424074   \n",
            "\n",
            "                5             6             7             8             9    \\\n",
            "count  60000.000000  60000.000000  60000.000000  60000.000000  60000.000000   \n",
            "mean      -0.424074     -0.424074     -0.424074     -0.424074     -0.424074   \n",
            "std        0.000000      0.000000      0.000000      0.000000      0.000000   \n",
            "min       -0.424074     -0.424074     -0.424074     -0.424074     -0.424074   \n",
            "25%       -0.424074     -0.424074     -0.424074     -0.424074     -0.424074   \n",
            "50%       -0.424074     -0.424074     -0.424074     -0.424074     -0.424074   \n",
            "75%       -0.424074     -0.424074     -0.424074     -0.424074     -0.424074   \n",
            "max       -0.424074     -0.424074     -0.424074     -0.424074     -0.424074   \n",
            "\n",
            "       ...           774           775           776           777  \\\n",
            "count  ...  60000.000000  60000.000000  60000.000000  60000.000000   \n",
            "mean   ...     -0.421523     -0.422943     -0.423493     -0.423828   \n",
            "std    ...      0.076908      0.050354      0.036145      0.021469   \n",
            "min    ...     -0.424074     -0.424074     -0.424074     -0.424074   \n",
            "25%    ...     -0.424074     -0.424074     -0.424074     -0.424074   \n",
            "50%    ...     -0.424074     -0.424074     -0.424074     -0.424074   \n",
            "75%    ...     -0.424074     -0.424074     -0.424074     -0.424074   \n",
            "max    ...      2.808815      2.808815      2.796088      2.796088   \n",
            "\n",
            "                778           779           780           781           782  \\\n",
            "count  60000.000000  60000.000000  60000.000000  60000.000000  60000.000000   \n",
            "mean      -0.423881     -0.424048     -0.424074     -0.424074     -0.424074   \n",
            "std        0.021361      0.004411      0.000000      0.000000      0.000000   \n",
            "min       -0.424074     -0.424074     -0.424074     -0.424074     -0.424074   \n",
            "25%       -0.424074     -0.424074     -0.424074     -0.424074     -0.424074   \n",
            "50%       -0.424074     -0.424074     -0.424074     -0.424074     -0.424074   \n",
            "75%       -0.424074     -0.424074     -0.424074     -0.424074     -0.424074   \n",
            "max        2.808815      0.365057     -0.424074     -0.424074     -0.424074   \n",
            "\n",
            "                783  \n",
            "count  60000.000000  \n",
            "mean      -0.424074  \n",
            "std        0.000000  \n",
            "min       -0.424074  \n",
            "25%       -0.424074  \n",
            "50%       -0.424074  \n",
            "75%       -0.424074  \n",
            "max       -0.424074  \n",
            "\n",
            "[8 rows x 784 columns]\n"
          ]
        }
      ]
    },
    {
      "cell_type": "code",
      "source": [
        "train_input_bias = np.concatenate([train_input_std, np.ones((train_input_std.shape[0], 1))], axis=1)\n",
        "test_input_bias = np.concatenate([test_input_std, np.ones((test_input_std.shape[0], 1))], axis=1)\n",
        "print(train_input_bias.shape)\n",
        "print(test_input_bias.shape)"
      ],
      "metadata": {
        "colab": {
          "base_uri": "https://localhost:8080/"
        },
        "id": "gmn2myc1xz2j",
        "outputId": "d994c1e4-cb6e-46a2-8e88-65da17140793"
      },
      "execution_count": 8,
      "outputs": [
        {
          "output_type": "stream",
          "name": "stdout",
          "text": [
            "(60000, 785)\n",
            "(10000, 785)\n"
          ]
        }
      ]
    },
    {
      "cell_type": "code",
      "source": [
        "print(train_input_bias[:, -1])\n",
        "print(test_input_bias[:, -1])"
      ],
      "metadata": {
        "colab": {
          "base_uri": "https://localhost:8080/"
        },
        "id": "aRxrmtqC3Se5",
        "outputId": "64388348-3dff-4191-8c53-78780f2690fc"
      },
      "execution_count": 9,
      "outputs": [
        {
          "output_type": "stream",
          "name": "stdout",
          "text": [
            "[1. 1. 1. ... 1. 1. 1.]\n",
            "[1. 1. 1. ... 1. 1. 1.]\n"
          ]
        }
      ]
    },
    {
      "cell_type": "markdown",
      "source": [
        "#Question 2"
      ],
      "metadata": {
        "id": "ei-EFF12T_q4"
      }
    },
    {
      "cell_type": "code",
      "source": [
        "from sklearn.metrics import accuracy_score\n",
        "import matplotlib.pyplot as plt\n",
        "class Linear_classifier:\n",
        "  \n",
        "  def __init__(self, numClasses):\n",
        "    self.w = None\n",
        "    self.numClasses = numClasses\n",
        "    np.random.seed(42)\n",
        "    \n",
        "  def model(self, x):\n",
        "    #x = batch_size X numFeatures, w = numClasses X numFeatures\n",
        "    #print(x.shape, self.w.shape) \n",
        "    a = np.matmul(self.w, x.T).T\n",
        "    return 1/(1 + np.exp(-a))\n",
        "\n",
        "    \n",
        "  def predict(self, X):\n",
        "    \n",
        "    result = self.model(X)\n",
        "    return np.array([1 if result[i] > 0.5 else 0 for i in range(len(result))])\n",
        "\n",
        "  def data_mini_batches(self, X, y, batch_size):\n",
        "    mini_batches = []\n",
        "    data = np.concatenate((X, y), axis = 1)\n",
        "    #np.random.seed(10)\n",
        "    np.random.shuffle(data)\n",
        "    n_minibatches = data.shape[0] // batch_size\n",
        "  \n",
        "    for i in range(n_minibatches):\n",
        "        mini_batch = data[i * batch_size:(i + 1)*batch_size, :]\n",
        "        mini_batches.append(mini_batch)\n",
        "    if data.shape[0] % batch_size != 0:\n",
        "        rem_mini_batch = data[(i + 1) * batch_size:, :]\n",
        "        mini_batches.append(rem_mini_batch)\n",
        "    return np.array(mini_batches)\n",
        "  \n",
        "  def loss(self, X, y, W):\n",
        "    \n",
        "    a = self.model(X)\n",
        "    b = X.shape[0]\n",
        "    loss = 1/b * (sum((y - a)**2))\n",
        "    return loss\n",
        "  \n",
        "  def fit(self, X, Y, epochs = 1, lr = 1, batch_size = 1, l2 = 0.1):\n",
        "    \n",
        "    self.w = np.zeros((Y.shape[1], X.shape[1]))\n",
        "    print(self.w.shape)\n",
        "    accuracy = []\n",
        "    max_accuracy = 0\n",
        "    chkptw = None\n",
        "\n",
        "    loss_list = []\n",
        "\n",
        "    for i in range(epochs):\n",
        "      SGD_mini_batches = self.data_mini_batches(X, Y, batch_size)\n",
        "      loss_add = 0\n",
        "      for m in SGD_mini_batches:\n",
        "        x = m[:, :-(self.numClasses-1)]\n",
        "        y = m[:, -self.numClasses+1:]\n",
        "        # print(\"m shape\", m.shape)\n",
        "        # print(\"x shape\", x.shape)\n",
        "        # print(\"y shape\", y.shape)\n",
        "        y_pred = self.model(x)\n",
        "        y_pred = y_pred > 0.5\n",
        "        #self.w = numClasses X numFeatures, y-y_pred = batch_size X numClasses, x = batch_size X numFeatures\n",
        "        self.w = self.w + ((lr/batch_size) * np.matmul((y - y_pred).T, x)) - (2 * l2 * self.w)\n",
        "        loss_add += self.loss(x, y, self.w)\n",
        "      loss_list.append(loss_add / len(SGD_mini_batches))\n",
        "\n",
        "      stepAccuracy = accuracy_score(self.predict(test_input_bias), y_test_formatted)\n",
        "      accuracy.append(stepAccuracy)\n",
        "      if(stepAccuracy > max_accuracy):\n",
        "        max_accuracy = stepAccuracy\n",
        "        chkptw = self.w\n",
        "\n",
        "    self.w = chkptw\n",
        "    print(\"Maximum Accuracy\", max_accuracy)\n",
        "    plt.plot(accuracy, label = \"Test Accuracy\")\n",
        "    plt.plot(loss_list, label = \"Loss\")\n",
        "    plt.legend()\n",
        "    plt.show()"
      ],
      "metadata": {
        "id": "JEvMGl96-n-8"
      },
      "execution_count": 10,
      "outputs": []
    },
    {
      "cell_type": "code",
      "source": [
        "import time\n",
        "linear_class_1 = Linear_classifier(numClasses = 2)\n",
        "print(train_input_bias.shape, y_train_formatted.shape)\n",
        "s = time.time()\n",
        "linear_class_1.fit(train_input_bias, y_train_formatted, epochs = 30, lr = 0.0001, batch_size = 60000, l2 = 0.01)\n",
        "e = time.time()\n",
        "print(\"Time taken for training:\", e-s)"
      ],
      "metadata": {
        "colab": {
          "base_uri": "https://localhost:8080/",
          "height": 499
        },
        "id": "pK27T9Fm-qvM",
        "outputId": "7d9712bf-2361-4cfc-cc07-b6f2da6d81f4"
      },
      "execution_count": 11,
      "outputs": [
        {
          "output_type": "stream",
          "name": "stdout",
          "text": [
            "(60000, 785) (60000, 1)\n",
            "(1, 785)\n",
            "Maximum Accuracy 0.7889\n"
          ]
        },
        {
          "output_type": "display_data",
          "data": {
            "text/plain": [
              "<Figure size 640x480 with 1 Axes>"
            ],
            "image/png": "[encoded data removed]"
          },
          "metadata": {}
        },
        {
          "output_type": "stream",
          "name": "stdout",
          "text": [
            "Time taken for training: 33.48149037361145\n"
          ]
        }
      ]
    },
    {
      "cell_type": "code",
      "source": [
        "cv2_imshow(X_test[20])\n",
        "cv2_imshow(X_test[21])\n",
        "cv2_imshow(X_test[22])\n",
        "cv2_imshow(X_test[23])\n",
        "cv2_imshow(X_test[24])\n",
        "print(linear_class_1.predict(test_input_bias[20:25]))\n",
        "print(y_test_formatted[20:25])"
      ],
      "metadata": {
        "colab": {
          "base_uri": "https://localhost:8080/",
          "height": 261
        },
        "id": "m41IoaL_CtqI",
        "outputId": "7c1c04d1-4e03-438d-d2a7-46b22e75eaaa"
      },
      "execution_count": 12,
      "outputs": [
        {
          "output_type": "display_data",
          "data": {
            "text/plain": [
              "<PIL.Image.Image image mode=L size=28x28 at 0x7FEB65997880>"
            ],
            "image/png": "[encoded data removed]"
          },
          "metadata": {}
        },
        {
          "output_type": "display_data",
          "data": {
            "text/plain": [
              "<PIL.Image.Image image mode=L size=28x28 at 0x7FEB634CC9A0>"
            ],
            "image/png": "[encoded data removed]"
          },
          "metadata": {}
        },
        {
          "output_type": "display_data",
          "data": {
            "text/plain": [
              "<PIL.Image.Image image mode=L size=28x28 at 0x7FEB8E13CCA0>"
            ],
            "image/png": "[encoded data removed]"
          },
          "metadata": {}
        },
        {
          "output_type": "display_data",
          "data": {
            "text/plain": [
              "<PIL.Image.Image image mode=L size=28x28 at 0x7FEB634CC9A0>"
            ],
            "image/png": "[encoded data removed]"
          },
          "metadata": {}
        },
        {
          "output_type": "display_data",
          "data": {
            "text/plain": [
              "<PIL.Image.Image image mode=L size=28x28 at 0x7FEB8E13CCA0>"
            ],
            "image/png": "[encoded data removed]"
          },
          "metadata": {}
        },
        {
          "output_type": "stream",
          "name": "stdout",
          "text": [
            "[1 1 0 1 0]\n",
            "[[1]\n",
            " [1]\n",
            " [1]\n",
            " [1]\n",
            " [0]]\n"
          ]
        }
      ]
    },
    {
      "cell_type": "markdown",
      "source": [
        "#Question 3"
      ],
      "metadata": {
        "id": "x3UQpd78TuWM"
      }
    },
    {
      "cell_type": "markdown",
      "source": [
        "#Quadratic Loss\n",
        "\n",
        "###Xavier initialization is done using np.random.randn"
      ],
      "metadata": {
        "id": "_cES2xhP0itS"
      }
    },
    {
      "cell_type": "code",
      "source": [
        "import numpy as np\n",
        "from tqdm import tqdm\n",
        "\n",
        "np.random.seed(10)\n",
        "num_hidden_units = [5, 40, 200]  # number of hidden units\n",
        "for k in num_hidden_units:\n",
        "    input_dim = train_input_bias.shape[1]\n",
        "    output_dim = 1  \n",
        "    W1 = np.random.randn(input_dim, k) / np.sqrt(input_dim)\n",
        "    b1 = np.zeros(k)\n",
        "    W2 = np.random.randn(k, output_dim) / np.sqrt(k)\n",
        "    b2 = np.zeros(output_dim)\n",
        "\n",
        "    \n",
        "    def forward(x, W1, b1, W2, b2):\n",
        "        h = np.maximum(0, np.dot(x, W1) + b1)  # ReLU activation\n",
        "        y = np.dot(h, W2) + b2\n",
        "        return h, y\n",
        "\n",
        "    \n",
        "    def loss(y_true, y_pred):\n",
        "        return np.mean(0.5 * np.square(y_true - y_pred))\n",
        "\n",
        "    \n",
        "    n_epochs = 10\n",
        "    batch_size = 10\n",
        "    n_batches = train_input_bias.shape[0] // batch_size\n",
        "    learning_rate = 0.035\n",
        "    train_loss_history = []\n",
        "    train_acc_history = []\n",
        "    test_acc_history = []\n",
        "    max_test_acc = 0\n",
        "    bestW1, bestb1, bestW2, bestb2 = None, None, None, None\n",
        "    for epoch in range(n_epochs):\n",
        "        if bestW1 is not None and bestb1 is not None and bestW2 is not None and bestb2 is not None:\n",
        "            W1 = bestW1\n",
        "            W2 = bestW2\n",
        "            b1 = bestb1\n",
        "            b2 = bestb2\n",
        "        p = np.random.permutation(train_input_bias.shape[0])\n",
        "        x_train = train_input_bias[p, :]\n",
        "        y_train = y_train_formatted[p, :]\n",
        "        for batch in tqdm(range(n_batches)):\n",
        "            \n",
        "            start = batch * batch_size\n",
        "            end = start + batch_size\n",
        "            x_batch = x_train[start:end]\n",
        "            y_batch = y_train[start:end]\n",
        "\n",
        "            \n",
        "            h, y_pred = forward(x_batch, W1, b1, W2, b2)\n",
        "\n",
        "            \n",
        "            batch_loss = loss(y_batch, y_pred)\n",
        "            y_pred = y_pred > 0.5\n",
        "            grad_y_pred = (y_pred - y_batch)\n",
        "            grad_W2 = np.dot(h.T, grad_y_pred)\n",
        "            grad_b2 = np.sum(grad_y_pred, axis=0)\n",
        "            grad_h = np.dot(grad_y_pred, W2.T)\n",
        "            grad_h[h <= 0] = 0\n",
        "            grad_W1 = np.dot(x_batch.T, grad_h)\n",
        "            grad_b1 = np.sum(grad_h, axis=0)\n",
        "\n",
        "            \n",
        "            W2 -= learning_rate * grad_W2 / batch_size\n",
        "            b2 -= learning_rate * grad_b2 / batch_size\n",
        "            W1 -= learning_rate * grad_W1 / batch_size\n",
        "            b1 -= learning_rate * grad_b1 / batch_size\n",
        "\n",
        "        \n",
        "        h, y_pred_train = forward(x_train, W1, b1, W2, b2)\n",
        "        #print(y_pred_train.shape)\n",
        "        #print(np.reshape(y_pred_train, (-1, 5)).shape)\n",
        "        train_acc = np.mean((y_pred_train > 0.5) == y_train)\n",
        "        train_acc_history.append(train_acc)\n",
        "\n",
        "        \n",
        "        hTest, y_pred_test = forward(test_input_bias, W1, b1, W2, b2)\n",
        "        test_acc = np.mean((y_pred_test > 0.5) == y_test_formatted)\n",
        "        if test_acc > max_test_acc:\n",
        "          max_test_acc = test_acc\n",
        "          bestW1 = W1\n",
        "          bestb1 = b1\n",
        "          bestW2 = W2\n",
        "          bestb2 = b2\n",
        "        test_acc_history.append(test_acc)\n",
        "        train_loss_history.append(batch_loss)\n",
        "\n",
        "    \n",
        "    print(\"Epoch {}/{}, Loss {:.4f}, Train Acc {:.4f}, Test Acc {:.4f}\"\n",
        "          .format(epoch + 1, n_epochs, batch_loss, train_acc, test_acc))\n",
        "\n",
        "    \n",
        "    \n",
        "\n",
        "    import matplotlib.pyplot as plt\n",
        "    plt.plot(train_acc_history, label='Train Acc')\n",
        "    plt.plot(test_acc_history, label='Test Acc')\n",
        "    plt.plot(train_loss_history, label='Loss')\n",
        "    plt.xlabel('Iteration')\n",
        "    plt.ylabel('Accuracy')\n",
        "    plt.legend()\n",
        "    plt.show()\n",
        "    print(\"K = \", k)\n",
        "    print(\"Final Test Acc: {:.4f}\".format(test_acc))\n",
        "    "
      ],
      "metadata": {
        "colab": {
          "base_uri": "https://localhost:8080/",
          "height": 1000
        },
        "id": "X7Xbl9rLmKRJ",
        "outputId": "8f899aae-c3da-4e86-ee94-fb1debdcde5b"
      },
      "execution_count": 25,
      "outputs": [
        {
          "output_type": "stream",
          "name": "stderr",
          "text": [
            "100%|██████████| 6000/6000 [00:02<00:00, 2463.32it/s]\n",
            "100%|██████████| 6000/6000 [00:02<00:00, 2713.80it/s]\n",
            "100%|██████████| 6000/6000 [00:01<00:00, 4212.56it/s]\n",
            "100%|██████████| 6000/6000 [00:00<00:00, 7512.37it/s]\n",
            "100%|██████████| 6000/6000 [00:00<00:00, 7380.00it/s]\n",
            "100%|██████████| 6000/6000 [00:00<00:00, 7266.43it/s]\n",
            "100%|██████████| 6000/6000 [00:01<00:00, 5968.33it/s]\n",
            "100%|██████████| 6000/6000 [00:01<00:00, 4597.85it/s]\n",
            "100%|██████████| 6000/6000 [00:00<00:00, 6161.35it/s]\n",
            "100%|██████████| 6000/6000 [00:00<00:00, 7438.86it/s]\n"
          ]
        },
        {
          "output_type": "stream",
          "name": "stdout",
          "text": [
            "Epoch 10/10, Loss 0.1204, Train Acc 0.8853, Test Acc 0.8884\n"
          ]
        },
        {
          "output_type": "display_data",
          "data": {
            "text/plain": [
              "<Figure size 640x480 with 1 Axes>"
            ],
            "image/png": "[encoded data removed]"
          },
          "metadata": {}
        },
        {
          "output_type": "stream",
          "name": "stdout",
          "text": [
            "K =  5\n",
            "Final Test Acc: 0.8884\n"
          ]
        },
        {
          "output_type": "stream",
          "name": "stderr",
          "text": [
            "100%|██████████| 6000/6000 [00:02<00:00, 2204.74it/s]\n",
            "100%|██████████| 6000/6000 [00:02<00:00, 2261.88it/s]\n",
            "100%|██████████| 6000/6000 [00:04<00:00, 1306.50it/s]\n",
            "100%|██████████| 6000/6000 [00:02<00:00, 2234.28it/s]\n",
            "100%|██████████| 6000/6000 [00:02<00:00, 2207.64it/s]\n",
            "100%|██████████| 6000/6000 [00:02<00:00, 2223.76it/s]\n",
            "100%|██████████| 6000/6000 [00:04<00:00, 1307.02it/s]\n",
            "100%|██████████| 6000/6000 [00:02<00:00, 2277.26it/s]\n",
            "100%|██████████| 6000/6000 [00:02<00:00, 2224.35it/s]\n",
            "100%|██████████| 6000/6000 [00:03<00:00, 1724.85it/s]\n"
          ]
        },
        {
          "output_type": "stream",
          "name": "stdout",
          "text": [
            "Epoch 10/10, Loss 0.1133, Train Acc 0.9482, Test Acc 0.9383\n"
          ]
        },
        {
          "output_type": "display_data",
          "data": {
            "text/plain": [
              "<Figure size 640x480 with 1 Axes>"
            ],
            "image/png": "[encoded data removed]"
          },
          "metadata": {}
        },
        {
          "output_type": "stream",
          "name": "stdout",
          "text": [
            "K =  40\n",
            "Final Test Acc: 0.9383\n"
          ]
        },
        {
          "output_type": "stream",
          "name": "stderr",
          "text": [
            "100%|██████████| 6000/6000 [00:09<00:00, 637.24it/s]\n",
            "100%|██████████| 6000/6000 [00:10<00:00, 559.75it/s]\n",
            "100%|██████████| 6000/6000 [00:10<00:00, 567.36it/s]\n",
            "100%|██████████| 6000/6000 [00:10<00:00, 567.51it/s]\n",
            "100%|██████████| 6000/6000 [00:10<00:00, 567.65it/s]\n",
            "100%|██████████| 6000/6000 [00:09<00:00, 629.84it/s]\n",
            "100%|██████████| 6000/6000 [00:08<00:00, 688.61it/s]\n",
            "100%|██████████| 6000/6000 [00:10<00:00, 574.72it/s]\n",
            "100%|██████████| 6000/6000 [00:10<00:00, 564.24it/s]\n",
            "100%|██████████| 6000/6000 [00:10<00:00, 578.48it/s]\n"
          ]
        },
        {
          "output_type": "stream",
          "name": "stdout",
          "text": [
            "Epoch 10/10, Loss 0.1041, Train Acc 0.9716, Test Acc 0.9514\n"
          ]
        },
        {
          "output_type": "display_data",
          "data": {
            "text/plain": [
              "<Figure size 640x480 with 1 Axes>"
            ],
            "image/png": "[encoded data removed]"
          },
          "metadata": {}
        },
        {
          "output_type": "stream",
          "name": "stdout",
          "text": [
            "K =  200\n",
            "Final Test Acc: 0.9514\n"
          ]
        }
      ]
    },
    {
      "cell_type": "markdown",
      "source": [
        "#Question 4"
      ],
      "metadata": {
        "id": "Qyf4FcG7TckU"
      }
    },
    {
      "cell_type": "markdown",
      "source": [
        "#Log loss"
      ],
      "metadata": {
        "id": "SdSfUKOUmU3I"
      }
    },
    {
      "cell_type": "markdown",
      "source": [
        "##k = 5"
      ],
      "metadata": {
        "id": "duZ-co9O-Rcb"
      }
    },
    {
      "cell_type": "code",
      "source": [
        "import numpy as np\n",
        "from tqdm import tqdm\n",
        "\n",
        "np.random.seed(10)\n",
        "k = 5\n",
        "input_dim = train_input_bias.shape[1]\n",
        "output_dim = 1  \n",
        "W1 = np.random.randn(input_dim, k) / np.sqrt(input_dim)\n",
        "b1 = np.zeros(k)\n",
        "W2 = np.random.randn(k, output_dim) / np.sqrt(k)\n",
        "b2 = np.zeros(output_dim)\n",
        "\n",
        "\n",
        "def forward(x, W1, b1, W2, b2):\n",
        "    h = np.maximum(0, np.dot(x, W1) + b1)  # ReLU activation\n",
        "    y = 1 / (1 + np.exp(-(np.dot(h, W2) + b2)))\n",
        "    return h, y\n",
        "\n",
        "\n",
        "def loss(y_true, y_pred):\n",
        "    epsilon = 1e-3\n",
        "    return -np.mean(y_true*np.log(y_pred + epsilon) + (1-y_true)*np.log(1-y_pred + epsilon))\n",
        "\n",
        "\n",
        "n_epochs = 10\n",
        "batch_size = 10\n",
        "n_batches = train_input_bias.shape[0] // batch_size\n",
        "learning_rate = 0.005\n",
        "train_loss_history = []\n",
        "train_acc_history = []\n",
        "test_acc_history = []\n",
        "max_test_acc = 0\n",
        "bestW1, bestb1, bestW2, bestb2 = None, None, None, None\n",
        "for epoch in range(n_epochs):\n",
        "    if bestW1 is not None and bestb1 is not None and bestW2 is not None and bestb2 is not None:\n",
        "        W1 = bestW1\n",
        "        W2 = bestW2\n",
        "        b1 = bestb1\n",
        "        b2 = bestb2\n",
        "    p = np.random.permutation(train_input_bias.shape[0])\n",
        "    x_train = train_input_bias[p, :]\n",
        "    y_train = y_train_formatted[p, :]\n",
        "    for batch in tqdm(range(n_batches)):\n",
        "        \n",
        "        start = batch * batch_size\n",
        "        end = start + batch_size\n",
        "        x_batch = x_train[start:end]\n",
        "        y_batch = y_train[start:end]\n",
        "\n",
        "        \n",
        "        h, y_pred = forward(x_batch, W1, b1, W2, b2)\n",
        "\n",
        "        \n",
        "        batch_loss = loss(y_batch, y_pred)\n",
        "        y_pred = y_pred > 0.5\n",
        "        grad_y_pred = y_pred - y_batch\n",
        "        grad_W2 = np.dot(h.T, grad_y_pred)\n",
        "        grad_b2 = np.sum(grad_y_pred, axis=0)\n",
        "        grad_h = np.dot(grad_y_pred, W2.T) * np.where(h * (1 - h) > 0, h * (1 - h), np.where(h > 0, h, (1 - h)))\n",
        "        grad_W1 = np.dot(x_batch.T, grad_h)\n",
        "        grad_b1 = np.sum(grad_h, axis=0)\n",
        "\n",
        "        \n",
        "        W2 -= learning_rate * grad_W2 / batch_size\n",
        "        b2 -= learning_rate * grad_b2 / batch_size\n",
        "        W1 -= learning_rate * grad_W1 / batch_size\n",
        "        b1 -= learning_rate * grad_b1 / batch_size\n",
        "\n",
        "    \n",
        "    h, y_pred_train = forward(x_train, W1, b1, W2, b2)\n",
        "    train_acc = np.mean((y_pred_train > 0.5) == y_train)\n",
        "    train_acc_history.append(train_acc)\n",
        "\n",
        "    \n",
        "    hTest, y_pred_test = forward(test_input_bias, W1, b1, W2, b2)\n",
        "    test_acc = np.mean((y_pred_test > 0.5) == y_test_formatted)\n",
        "    if test_acc > max_test_acc:\n",
        "      max_test_acc = test_acc\n",
        "      bestW1 = W1\n",
        "      bestb1 = b1\n",
        "      bestW2 = W2\n",
        "      bestb2 = b2\n",
        "    test_acc_history.append(test_acc)\n",
        "    train_loss_history.append(batch_loss)\n",
        "\n",
        "\n",
        "print(\"Epoch {}/{}, Loss {:.4f}, Train Acc {:.4f}, Test Acc {:.4f}\"\n",
        "      .format(epoch + 1, n_epochs, batch_loss, train_acc, test_acc))\n",
        "\n",
        "\n",
        "import matplotlib.pyplot as plt\n",
        "plt.plot(train_acc_history, label='Train Acc')\n",
        "plt.plot(test_acc_history, label='Test Acc')\n",
        "plt.plot(train_loss_history, label='Loss')\n",
        "plt.xlabel('Epoch')\n",
        "plt.ylabel('Accuracy')\n",
        "plt.legend()\n",
        "plt.show()\n",
        "print(\"K = \", k)\n",
        "print(\"Final Test Acc: {:.4f}\".format(test_acc))\n",
        "    "
      ],
      "metadata": {
        "colab": {
          "base_uri": "https://localhost:8080/",
          "height": 680
        },
        "outputId": "a50e444e-701b-44c6-9798-befbb803cb0d",
        "id": "0tuQjQ4j8msD"
      },
      "execution_count": 43,
      "outputs": [
        {
          "output_type": "stream",
          "name": "stderr",
          "text": [
            "100%|██████████| 6000/6000 [00:01<00:00, 5370.42it/s]\n",
            "100%|██████████| 6000/6000 [00:01<00:00, 5923.06it/s]\n",
            "100%|██████████| 6000/6000 [00:01<00:00, 5725.85it/s]\n",
            "100%|██████████| 6000/6000 [00:01<00:00, 5579.20it/s]\n",
            "100%|██████████| 6000/6000 [00:01<00:00, 4576.82it/s]\n",
            "100%|██████████| 6000/6000 [00:01<00:00, 3007.50it/s]\n",
            "100%|██████████| 6000/6000 [00:03<00:00, 1929.76it/s]\n",
            "100%|██████████| 6000/6000 [00:02<00:00, 2089.03it/s]\n",
            "100%|██████████| 6000/6000 [00:01<00:00, 3133.15it/s]\n",
            "100%|██████████| 6000/6000 [00:01<00:00, 3550.19it/s]\n"
          ]
        },
        {
          "output_type": "stream",
          "name": "stdout",
          "text": [
            "Epoch 10/10, Loss 0.6906, Train Acc 0.8573, Test Acc 0.8663\n"
          ]
        },
        {
          "output_type": "display_data",
          "data": {
            "text/plain": [
              "<Figure size 640x480 with 1 Axes>"
            ],
            "image/png": "[encoded data removed]"
          },
          "metadata": {}
        },
        {
          "output_type": "stream",
          "name": "stdout",
          "text": [
            "K =  5\n",
            "Final Test Acc: 0.8663\n"
          ]
        }
      ]
    },
    {
      "cell_type": "markdown",
      "source": [
        "##K = 40"
      ],
      "metadata": {
        "id": "eciTCdCN-VrO"
      }
    },
    {
      "cell_type": "code",
      "source": [
        "import numpy as np\n",
        "from tqdm import tqdm\n",
        "\n",
        "np.random.seed(10)\n",
        "k = 40\n",
        "input_dim = train_input_bias.shape[1]\n",
        "output_dim = 1  \n",
        "W1 = np.random.randn(input_dim, k) / np.sqrt(input_dim)\n",
        "b1 = np.zeros(k)\n",
        "W2 = np.random.randn(k, output_dim) / np.sqrt(k)\n",
        "b2 = np.zeros(output_dim)\n",
        "\n",
        "\n",
        "def forward(x, W1, b1, W2, b2):\n",
        "    h = np.maximum(0, np.dot(x, W1) + b1)  # ReLU activation\n",
        "    y = 1 / (1 + np.exp(-(np.dot(h, W2) + b2)))\n",
        "    return h, y\n",
        "\n",
        "\n",
        "def loss(y_true, y_pred):\n",
        "    epsilon = 1e-3\n",
        "    return -np.mean(y_true*np.log(y_pred + epsilon) + (1-y_true)*np.log(1-y_pred + epsilon))\n",
        "\n",
        "\n",
        "n_epochs = 10\n",
        "batch_size = 10\n",
        "n_batches = train_input_bias.shape[0] // batch_size\n",
        "learning_rate = 0.006\n",
        "train_loss_history = []\n",
        "train_acc_history = []\n",
        "test_acc_history = []\n",
        "max_test_acc = 0\n",
        "bestW1, bestb1, bestW2, bestb2 = None, None, None, None\n",
        "for epoch in range(n_epochs):\n",
        "    if bestW1 is not None and bestb1 is not None and bestW2 is not None and bestb2 is not None:\n",
        "        W1 = bestW1\n",
        "        W2 = bestW2\n",
        "        b1 = bestb1\n",
        "        b2 = bestb2\n",
        "    p = np.random.permutation(train_input_bias.shape[0])\n",
        "    x_train = train_input_bias[p, :]\n",
        "    y_train = y_train_formatted[p, :]\n",
        "    for batch in tqdm(range(n_batches)):\n",
        "        \n",
        "        start = batch * batch_size\n",
        "        end = start + batch_size\n",
        "        x_batch = x_train[start:end]\n",
        "        y_batch = y_train[start:end]\n",
        "\n",
        "        \n",
        "        h, y_pred = forward(x_batch, W1, b1, W2, b2)\n",
        "\n",
        "        \n",
        "        batch_loss = loss(y_batch, y_pred)\n",
        "        y_pred = y_pred > 0.5\n",
        "        grad_y_pred = y_pred - y_batch\n",
        "        grad_W2 = np.dot(h.T, grad_y_pred)\n",
        "        grad_b2 = np.sum(grad_y_pred, axis=0)\n",
        "        grad_h = np.dot(grad_y_pred, W2.T) * np.where(h * (1 - h) > 0, h * (1 - h), np.where(h > 0, h, (1 - h)))\n",
        "        grad_W1 = np.dot(x_batch.T, grad_h)\n",
        "        grad_b1 = np.sum(grad_h, axis=0)\n",
        "\n",
        "        \n",
        "        W2 -= learning_rate * grad_W2 / batch_size\n",
        "        b2 -= learning_rate * grad_b2 / batch_size\n",
        "        W1 -= learning_rate * grad_W1 / batch_size\n",
        "        b1 -= learning_rate * grad_b1 / batch_size\n",
        "\n",
        "    \n",
        "    h, y_pred_train = forward(x_train, W1, b1, W2, b2)\n",
        "    train_acc = np.mean((y_pred_train > 0.5) == y_train)\n",
        "    train_acc_history.append(train_acc)\n",
        "\n",
        "    \n",
        "    hTest, y_pred_test = forward(test_input_bias, W1, b1, W2, b2)\n",
        "    test_acc = np.mean((y_pred_test > 0.5) == y_test_formatted)\n",
        "    if test_acc > max_test_acc:\n",
        "      max_test_acc = test_acc\n",
        "      bestW1 = W1\n",
        "      bestb1 = b1\n",
        "      bestW2 = W2\n",
        "      bestb2 = b2\n",
        "    test_acc_history.append(test_acc)\n",
        "    train_loss_history.append(batch_loss)\n",
        "\n",
        "\n",
        "print(\"Epoch {}/{}, Loss {:.4f}, Train Acc {:.4f}, Test Acc {:.4f}\"\n",
        "      .format(epoch + 1, n_epochs, batch_loss, train_acc, test_acc))\n",
        "\n",
        "\n",
        "import matplotlib.pyplot as plt\n",
        "plt.plot(train_acc_history, label='Train Acc')\n",
        "plt.plot(test_acc_history, label='Test Acc')\n",
        "plt.plot(train_loss_history, label='Loss')\n",
        "plt.xlabel('Epoch')\n",
        "plt.ylabel('Accuracy')\n",
        "plt.legend()\n",
        "plt.show()\n",
        "print(\"K = \", k)\n",
        "print(\"Final Test Acc: {:.4f}\".format(test_acc))\n",
        "    "
      ],
      "metadata": {
        "colab": {
          "base_uri": "https://localhost:8080/",
          "height": 675
        },
        "outputId": "4a2e658e-c5c3-49b9-f324-8fdd89711ab3",
        "id": "LUoe50a472fo"
      },
      "execution_count": 51,
      "outputs": [
        {
          "output_type": "stream",
          "name": "stderr",
          "text": [
            "100%|██████████| 6000/6000 [00:03<00:00, 1851.62it/s]\n",
            "100%|██████████| 6000/6000 [00:05<00:00, 1164.41it/s]\n",
            "100%|██████████| 6000/6000 [00:03<00:00, 1886.26it/s]\n",
            "100%|██████████| 6000/6000 [00:03<00:00, 1959.48it/s]\n",
            "100%|██████████| 6000/6000 [00:05<00:00, 1134.12it/s]\n",
            "100%|██████████| 6000/6000 [00:03<00:00, 1929.23it/s]\n",
            "100%|██████████| 6000/6000 [00:03<00:00, 1933.59it/s]\n",
            "100%|██████████| 6000/6000 [00:04<00:00, 1248.92it/s]\n",
            "100%|██████████| 6000/6000 [00:03<00:00, 1977.06it/s]\n",
            "100%|██████████| 6000/6000 [00:03<00:00, 1952.75it/s]\n"
          ]
        },
        {
          "output_type": "stream",
          "name": "stdout",
          "text": [
            "Epoch 10/10, Loss 0.6869, Train Acc 0.8746, Test Acc 0.8772\n"
          ]
        },
        {
          "output_type": "display_data",
          "data": {
            "text/plain": [
              "<Figure size 640x480 with 1 Axes>"
            ],
            "image/png": "[encoded data removed]"
          },
          "metadata": {}
        },
        {
          "output_type": "stream",
          "name": "stdout",
          "text": [
            "K =  40\n",
            "Final Test Acc: 0.8772\n"
          ]
        }
      ]
    },
    {
      "cell_type": "markdown",
      "source": [
        "##K = 200"
      ],
      "metadata": {
        "id": "RE5-kDfT-Y43"
      }
    },
    {
      "cell_type": "code",
      "source": [
        "import numpy as np\n",
        "from tqdm import tqdm\n",
        "\n",
        "np.random.seed(10)\n",
        "k = 200\n",
        "input_dim = train_input_bias.shape[1]\n",
        "output_dim = 1  \n",
        "W1 = np.random.randn(input_dim, k) / np.sqrt(input_dim)\n",
        "b1 = np.zeros(k)\n",
        "W2 = np.random.randn(k, output_dim) / np.sqrt(k)\n",
        "b2 = np.zeros(output_dim)\n",
        "\n",
        "\n",
        "def forward(x, W1, b1, W2, b2):\n",
        "    h = np.maximum(0, np.dot(x, W1) + b1)  # ReLU activation\n",
        "    y = 1 / (1 + np.exp(-(np.dot(h, W2) + b2)))\n",
        "    return h, y\n",
        "\n",
        "\n",
        "def loss(y_true, y_pred):\n",
        "    epsilon = 1e-3\n",
        "    return -np.mean(y_true*np.log(y_pred + epsilon) + (1-y_true)*np.log(1-y_pred + epsilon))\n",
        "\n",
        "\n",
        "n_epochs = 10\n",
        "batch_size = 10\n",
        "n_batches = train_input_bias.shape[0] // batch_size\n",
        "learning_rate = 0.01\n",
        "train_loss_history = []\n",
        "train_acc_history = []\n",
        "test_acc_history = []\n",
        "max_test_acc = 0\n",
        "bestW1, bestb1, bestW2, bestb2 = None, None, None, None\n",
        "for epoch in range(n_epochs):\n",
        "    if bestW1 is not None and bestb1 is not None and bestW2 is not None and bestb2 is not None:\n",
        "        W1 = bestW1\n",
        "        W2 = bestW2\n",
        "        b1 = bestb1\n",
        "        b2 = bestb2\n",
        "    p = np.random.permutation(train_input_bias.shape[0])\n",
        "    x_train = train_input_bias[p, :]\n",
        "    y_train = y_train_formatted[p, :]\n",
        "    for batch in tqdm(range(n_batches)):\n",
        "        \n",
        "        start = batch * batch_size\n",
        "        end = start + batch_size\n",
        "        x_batch = x_train[start:end]\n",
        "        y_batch = y_train[start:end]\n",
        "\n",
        "        \n",
        "        h, y_pred = forward(x_batch, W1, b1, W2, b2)\n",
        "\n",
        "        \n",
        "        batch_loss = loss(y_batch, y_pred)\n",
        "        y_pred = y_pred > 0.5\n",
        "        grad_y_pred = y_pred - y_batch\n",
        "        grad_W2 = np.dot(h.T, grad_y_pred)\n",
        "        grad_b2 = np.sum(grad_y_pred, axis=0)\n",
        "        grad_h = np.dot(grad_y_pred, W2.T) * np.where(h * (1 - h) > 0, h * (1 - h), np.where(h > 0, h, (1 - h)))\n",
        "        grad_W1 = np.dot(x_batch.T, grad_h)\n",
        "        grad_b1 = np.sum(grad_h, axis=0)\n",
        "\n",
        "        \n",
        "        W2 -= learning_rate * grad_W2 / batch_size\n",
        "        b2 -= learning_rate * grad_b2 / batch_size\n",
        "        W1 -= learning_rate * grad_W1 / batch_size\n",
        "        b1 -= learning_rate * grad_b1 / batch_size\n",
        "\n",
        "    \n",
        "    h, y_pred_train = forward(x_train, W1, b1, W2, b2)\n",
        "    train_acc = np.mean((y_pred_train > 0.5) == y_train)\n",
        "    train_acc_history.append(train_acc)\n",
        "\n",
        "    \n",
        "    hTest, y_pred_test = forward(test_input_bias, W1, b1, W2, b2)\n",
        "    test_acc = np.mean((y_pred_test > 0.5) == y_test_formatted)\n",
        "    if test_acc > max_test_acc:\n",
        "      max_test_acc = test_acc\n",
        "      bestW1 = W1\n",
        "      bestb1 = b1\n",
        "      bestW2 = W2\n",
        "      bestb2 = b2\n",
        "    test_acc_history.append(test_acc)\n",
        "    train_loss_history.append(batch_loss)\n",
        "\n",
        "\n",
        "print(\"Epoch {}/{}, Loss {:.4f}, Train Acc {:.4f}, Test Acc {:.4f}\"\n",
        "      .format(epoch + 1, n_epochs, batch_loss, train_acc, test_acc))\n",
        "\n",
        "\n",
        "import matplotlib.pyplot as plt\n",
        "plt.plot(train_acc_history, label='Train Acc')\n",
        "plt.plot(test_acc_history, label='Test Acc')\n",
        "plt.plot(train_loss_history, label='Loss')\n",
        "plt.xlabel('Epoch')\n",
        "plt.ylabel('Accuracy')\n",
        "plt.legend()\n",
        "plt.show()\n",
        "print(\"K = \", k)\n",
        "print(\"Final Test Acc: {:.4f}\".format(test_acc))\n",
        "    "
      ],
      "metadata": {
        "colab": {
          "base_uri": "https://localhost:8080/",
          "height": 675
        },
        "outputId": "025018f5-8c79-4150-dbc7-f6cda64791f5",
        "id": "PJy-9GGn8gMp"
      },
      "execution_count": 45,
      "outputs": [
        {
          "output_type": "stream",
          "name": "stderr",
          "text": [
            "100%|██████████| 6000/6000 [00:11<00:00, 544.29it/s]\n",
            "100%|██████████| 6000/6000 [00:10<00:00, 581.21it/s]\n",
            "100%|██████████| 6000/6000 [00:16<00:00, 372.99it/s]\n",
            "100%|██████████| 6000/6000 [00:11<00:00, 529.52it/s]\n",
            "100%|██████████| 6000/6000 [00:11<00:00, 543.07it/s]\n",
            "100%|██████████| 6000/6000 [00:10<00:00, 587.58it/s]\n",
            "100%|██████████| 6000/6000 [00:09<00:00, 647.85it/s]\n",
            "100%|██████████| 6000/6000 [00:10<00:00, 563.42it/s]\n",
            "100%|██████████| 6000/6000 [00:11<00:00, 535.24it/s]\n",
            "100%|██████████| 6000/6000 [00:11<00:00, 541.39it/s]\n"
          ]
        },
        {
          "output_type": "stream",
          "name": "stdout",
          "text": [
            "Epoch 10/10, Loss 0.6731, Train Acc 0.9351, Test Acc 0.9337\n"
          ]
        },
        {
          "output_type": "display_data",
          "data": {
            "text/plain": [
              "<Figure size 640x480 with 1 Axes>"
            ],
            "image/png": "[encoded data removed]"
          },
          "metadata": {}
        },
        {
          "output_type": "stream",
          "name": "stdout",
          "text": [
            "K =  200\n",
            "Final Test Acc: 0.9337\n"
          ]
        }
      ]
    }
  ]
}