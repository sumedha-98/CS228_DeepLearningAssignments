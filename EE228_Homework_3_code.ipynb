{
  "cells": [
    {
      "cell_type": "code",
      "execution_count": null,
      "metadata": {
        "id": "x38hpTA3X0jX"
      },
      "outputs": [],
      "source": [
        "import gzip\n",
        "import tarfile\n",
        "import pickle\n",
        "import numpy as np\n",
        "from google.colab.patches import cv2_imshow, cv2\n",
        "import pandas as pd\n",
        "import tensorflow as tf\n",
        "from tensorflow.keras.layers import Dense, GlobalAveragePooling2D\n",
        "from tensorflow.keras.applications.resnet import ResNet50\n",
        "from tensorflow.keras.optimizers import Adam\n",
        "from tensorflow.keras.utils import to_categorical\n",
        "import numpy as np\n",
        "import os\n",
        "import pickle\n",
        "from tensorflow.keras.callbacks import ModelCheckpoint\n",
        "from google.colab import drive"
      ]
    },
    {
      "cell_type": "code",
      "execution_count": 2,
      "metadata": {
        "colab": {
          "base_uri": "https://localhost:8080/"
        },
        "id": "bxLp7zatYX1B",
        "outputId": "5e6c33fd-acc1-40c5-e4fc-c7f9333c31d5"
      },
      "outputs": [
        {
          "output_type": "stream",
          "name": "stdout",
          "text": [
            "--2023-05-24 05:19:22--  https://www.cs.toronto.edu/~kriz/cifar-10-python.tar.gz\n",
            "Resolving www.cs.toronto.edu (www.cs.toronto.edu)... 128.100.3.30\n",
            "Connecting to www.cs.toronto.edu (www.cs.toronto.edu)|128.100.3.30|:443... connected.\n",
            "HTTP request sent, awaiting response... 200 OK\n",
            "Length: 170498071 (163M) [application/x-gzip]\n",
            "Saving to: ‘cifar-10-python.tar.gz’\n",
            "\n",
            "cifar-10-python.tar 100%[===================>] 162.60M  53.5MB/s    in 3.2s    \n",
            "\n",
            "2023-05-24 05:19:26 (50.9 MB/s) - ‘cifar-10-python.tar.gz’ saved [170498071/170498071]\n",
            "\n"
          ]
        }
      ],
      "source": [
        "!wget https://www.cs.toronto.edu/~kriz/cifar-10-python.tar.gz"
      ]
    },
    {
      "cell_type": "code",
      "execution_count": 3,
      "metadata": {
        "id": "ZpCfhdPwYgxE"
      },
      "outputs": [],
      "source": [
        "!gzip -d cifar-10-python.tar.gz"
      ]
    },
    {
      "cell_type": "code",
      "execution_count": 4,
      "metadata": {
        "id": "SwZDwhFjY8vh"
      },
      "outputs": [],
      "source": [
        "data_file = 'cifar-10-python.tar'\n",
        "data_file_obj= tarfile.open(data_file,\"r\")"
      ]
    },
    {
      "cell_type": "code",
      "execution_count": 5,
      "metadata": {
        "colab": {
          "base_uri": "https://localhost:8080/"
        },
        "id": "BgMEc3urZ264",
        "outputId": "8da4abe0-1cb9-4273-f3d6-d839bf29e019"
      },
      "outputs": [
        {
          "output_type": "stream",
          "name": "stdout",
          "text": [
            "cifar-10-batches-py\n",
            "cifar-10-batches-py/data_batch_4\n",
            "cifar-10-batches-py/readme.html\n",
            "cifar-10-batches-py/test_batch\n",
            "cifar-10-batches-py/data_batch_3\n",
            "cifar-10-batches-py/batches.meta\n",
            "cifar-10-batches-py/data_batch_2\n",
            "cifar-10-batches-py/data_batch_5\n",
            "cifar-10-batches-py/data_batch_1\n"
          ]
        }
      ],
      "source": [
        "file_list=data_file_obj.getnames()\n",
        "for name in file_list:\n",
        "    print(name)"
      ]
    },
    {
      "cell_type": "code",
      "execution_count": 6,
      "metadata": {
        "id": "revj16A3dyZq"
      },
      "outputs": [],
      "source": [
        "import os\n",
        "file = data_file_obj.extractall(\"extracted_tar_folder\")\n",
        "batch_1 = '/content/extracted_tar_folder/cifar-10-batches-py/data_batch_1'\n",
        "batch_2 = '/content/extracted_tar_folder/cifar-10-batches-py/data_batch_2'\n",
        "batch_3 = '/content/extracted_tar_folder/cifar-10-batches-py/data_batch_3'\n",
        "batch_4 = '/content/extracted_tar_folder/cifar-10-batches-py/data_batch_4'\n",
        "batch_5 = '/content/extracted_tar_folder/cifar-10-batches-py/data_batch_5'\n",
        "test_batch = '/content/extracted_tar_folder/cifar-10-batches-py/test_batch'"
      ]
    },
    {
      "cell_type": "code",
      "execution_count": 7,
      "metadata": {
        "colab": {
          "base_uri": "https://localhost:8080/"
        },
        "id": "avSWEUeXg0bl",
        "outputId": "c09a37b9-f71a-4e6b-9af0-8b26c3bc909f"
      },
      "outputs": [
        {
          "output_type": "stream",
          "name": "stdout",
          "text": [
            "[ 59  43  50 ... 140  84  72]\n",
            "[ 35  27  25 ... 169 168 168]\n",
            "(50000, 32, 32, 3)\n"
          ]
        }
      ],
      "source": [
        "with open(batch_1, 'rb') as fo:\n",
        "  first_batch = pickle.load(fo, encoding='bytes')\n",
        "with open(batch_2, 'rb') as fo:\n",
        "  second_batch = pickle.load(fo, encoding='bytes')\n",
        "with open(batch_3, 'rb') as fo:\n",
        "  third_batch = pickle.load(fo, encoding='bytes')\n",
        "with open(batch_4, 'rb') as fo:\n",
        "  fourth_batch = pickle.load(fo, encoding='bytes')\n",
        "with open(batch_5, 'rb') as fo:\n",
        "  fifth_batch = pickle.load(fo, encoding='bytes')\n",
        "with open(test_batch, 'rb') as fo:\n",
        "  batch_test = pickle.load(fo, encoding='bytes')\n",
        "\n",
        "print((first_batch[b'data'][0]))\n",
        "print(second_batch[b'data'][0])\n",
        "\n",
        "dataset_x = np.concatenate((first_batch[b'data'], second_batch[b'data'], third_batch[b'data'], fourth_batch[b'data'], fifth_batch[b'data']), axis = 0)\n",
        "dataset_x = np.reshape(dataset_x, (-1, 32, 32, 3))\n",
        "print(dataset_x.shape)\n",
        "\n",
        "dataset_y = np.concatenate((np.array(first_batch[b'labels']), np.array(second_batch[b'labels']), np.array(third_batch[b'labels']), np.array(fourth_batch[b'labels']), np.array(fifth_batch[b'labels'])), axis = 0)\n",
        "dataset_y = np.reshape(dataset_y, [-1, 1])\n"
      ]
    },
    {
      "cell_type": "code",
      "execution_count": 16,
      "metadata": {
        "colab": {
          "base_uri": "https://localhost:8080/"
        },
        "id": "yQytLCSA5xgO",
        "outputId": "1d3b12bc-ab0f-45d1-c738-a7b9e8179cee"
      },
      "outputs": [
        {
          "output_type": "stream",
          "name": "stdout",
          "text": [
            "Sampled Training Data Shape: (10000, 32, 32, 3)\n",
            "Sampled Training Labels Shape: (10000, 1)\n"
          ]
        }
      ],
      "source": [
        "np.random.seed(42)\n",
        "\n",
        "sampled_x_train = []\n",
        "sampled_y_train = []\n",
        "\n",
        "for class_label in range(10):\n",
        "    \n",
        "    indices = np.where(dataset_y == class_label)[0]\n",
        "\n",
        "    sampled_indices = np.random.choice(indices, size=1000, replace=False)\n",
        "\n",
        "    sampled_x_train.append(dataset_x[sampled_indices])\n",
        "    sampled_y_train.append(dataset_y[sampled_indices])\n",
        "\n",
        "sampled_x_train = np.concatenate(sampled_x_train, axis=0)\n",
        "sampled_y_train = np.concatenate(sampled_y_train, axis=0)\n",
        "\n",
        "shuffle_indices = np.random.permutation(len(sampled_x_train))\n",
        "sampled_x_train = sampled_x_train[shuffle_indices]\n",
        "sampled_y_train = sampled_y_train[shuffle_indices]\n",
        "\n",
        "print('Sampled Training Data Shape:', sampled_x_train.shape)\n",
        "print('Sampled Training Labels Shape:', sampled_y_train.shape)"
      ]
    },
    {
      "cell_type": "markdown",
      "source": [
        "#Question 1"
      ],
      "metadata": {
        "id": "7xioVAE_cmy7"
      }
    },
    {
      "cell_type": "code",
      "execution_count": 9,
      "metadata": {
        "colab": {
          "base_uri": "https://localhost:8080/",
          "height": 979
        },
        "id": "_JXYx_BHBo7Z",
        "outputId": "dbbab375-74db-4e57-b010-cea72492012e"
      },
      "outputs": [
        {
          "output_type": "stream",
          "name": "stdout",
          "text": [
            "Mounted at /content/drive\n"
          ]
        },
        {
          "output_type": "display_data",
          "data": {
            "text/plain": [
              "<Figure size 640x480 with 1 Axes>"
            ],
            "image/png": "[encoded data removed]"
          },
          "metadata": {}
        },
        {
          "output_type": "display_data",
          "data": {
            "text/plain": [
              "<Figure size 640x480 with 1 Axes>"
            ],
            "image/png": "[encoded data removed]"
          },
          "metadata": {}
        },
        {
          "output_type": "stream",
          "name": "stdout",
          "text": [
            "313/313 [==============================] - 53s 160ms/step - loss: 2.6967 - accuracy: 0.3680\n",
            "Test Accuracy:0.368\n"
          ]
        }
      ],
      "source": [
        "drive.mount('/content/drive', force_remount=True)\n",
        "\n",
        "x_train, y_train = sampled_x_train, sampled_y_train \n",
        "x_test, y_test = batch_test[b'data'], batch_test[b'labels']\n",
        "\n",
        "x_train = x_train.astype('float32') / 255.0\n",
        "x_test = x_test.astype('float32') / 255.0\n",
        "\n",
        "y_train = to_categorical(y_train, num_classes=10)\n",
        "y_test = to_categorical(y_test, num_classes=10)\n",
        "\n",
        "x_test = np.reshape(x_test, (-1, 32, 32, 3))\n",
        "\n",
        "checkpoint_filepath = '/content/drive/MyDrive/resnet_checkpoint/resnet_best_weights.h5'\n",
        "history_filepath = '/content/drive/MyDrive/resnet_checkpoint/history.npy'\n",
        "\n",
        "model = ResNet50(weights=None, input_shape=(32, 32, 3), classes=10)\n",
        "model.compile(optimizer=Adam(learning_rate=0.001),\n",
        "              loss='categorical_crossentropy',\n",
        "              metrics=['accuracy'])\n",
        "\n",
        "# Define the ModelCheckpoint callback to save the best weights\n",
        "checkpoint_callback = ModelCheckpoint(checkpoint_filepath,\n",
        "                                      monitor='val_accuracy',\n",
        "                                      save_best_only=True,\n",
        "                                      mode='max',\n",
        "                                      verbose=1)\n",
        "history = None\n",
        "\n",
        "if os.path.exists(checkpoint_filepath):\n",
        "    model.load_weights(checkpoint_filepath)\n",
        "    if os.path.exists(history_filepath):\n",
        "      history = np.load(history_filepath, allow_pickle=True).item()\n",
        "\n",
        "else:\n",
        "    history = model.fit(x_train, y_train,\n",
        "              batch_size=32,\n",
        "              epochs=20,\n",
        "              validation_data=(x_test, y_test),\n",
        "              callbacks=[checkpoint_callback])\n",
        "    \n",
        "    np.save(history_filepath, history.history)\n",
        "\n",
        "if history:\n",
        "  import matplotlib.pyplot as plt\n",
        "  #print(history)\n",
        "  plt.plot(history['accuracy'])\n",
        "  plt.plot(history['val_accuracy'])\n",
        "  plt.title('Model Accuracy')\n",
        "  plt.xlabel('Epoch')\n",
        "  plt.ylabel('Accuracy')\n",
        "  plt.legend(['Train', 'Test'], loc='upper left')\n",
        "  plt.show()\n",
        "\n",
        "  plt.plot(history['loss'])\n",
        "  plt.plot(history['val_loss'])\n",
        "  plt.title('Model Loss')\n",
        "  plt.xlabel('Epoch')\n",
        "  plt.ylabel('Loss')\n",
        "  plt.legend(['Train', 'Test'], loc='upper right')\n",
        "  plt.show()\n",
        "\n",
        "_, test_accuracy = model.evaluate(x_test, y_test)\n",
        "print('Test Accuracy:%.3f' %(test_accuracy))\n"
      ]
    },
    {
      "cell_type": "markdown",
      "source": [
        "#Question 2"
      ],
      "metadata": {
        "id": "BfFv_2O6cish"
      }
    },
    {
      "cell_type": "code",
      "execution_count": null,
      "metadata": {
        "id": "BtTlyirMKnKJ"
      },
      "outputs": [],
      "source": [
        "def mixup_augmentation(x1, y1, x2, y2, alpha):\n",
        "    lam = np.random.beta(alpha, alpha)\n",
        "\n",
        "    mixed_x = lam * x1 + (1 - lam) * x2\n",
        "    mixed_y = lam * y1 + (1 - lam) * y2\n",
        "\n",
        "    return mixed_x, mixed_y\n",
        "\n",
        "# Load and preprocess the CIFAR10 dataset\n",
        "x_train, y_train = sampled_x_train, sampled_y_train \n",
        "x_test, y_test = batch_test[b'data'], batch_test[b'labels']\n",
        "\n",
        "x_train = x_train.astype('float32') / 255.0\n",
        "x_test = x_test.astype('float32') / 255.0\n",
        "\n",
        "x_test = np.reshape(x_test, (-1, 32, 32, 3))\n",
        "\n",
        "y_train = to_categorical(y_train, num_classes=10)\n",
        "y_test = to_categorical(y_test, num_classes=10)\n",
        "\n",
        "# Define the checkpoint filepath\n",
        "checkpoint_dir = '/content/drive/MyDrive/resnet_checkpoint'\n",
        "os.makedirs(checkpoint_dir, exist_ok=True)\n",
        "checkpoint_filepath = os.path.join(checkpoint_dir, 'resnet_mixup_best_weights.h5')\n",
        "history_filepath = os.path.join(checkpoint_dir, 'resnet_mixup_history.pkl')\n",
        "\n",
        "# Check if the checkpoint file exists\n",
        "if os.path.exists(checkpoint_filepath):\n",
        "    # Create the ResNet50 model\n",
        "    base_model = ResNet50(weights=None, include_top=False, input_shape=(32, 32, 3))\n",
        "\n",
        "    # Add a global average pooling layer\n",
        "    x = base_model.output\n",
        "    x = GlobalAveragePooling2D()(x)\n",
        "\n",
        "    # Add a fully connected layer\n",
        "    x = Dense(256, activation='relu')(x)\n",
        "\n",
        "    # Add the output layer\n",
        "    predictions = Dense(10, activation='softmax')(x)\n",
        "\n",
        "    # Build the final model\n",
        "    model = tf.keras.Model(inputs=base_model.input, outputs=predictions)\n",
        "\n",
        "    # Load the best weights\n",
        "    model.load_weights(checkpoint_filepath)\n",
        "\n",
        "    # Compile the model\n",
        "    model.compile(optimizer=Adam(learning_rate=0.001),\n",
        "                  loss='categorical_crossentropy',\n",
        "                  metrics=['accuracy'])\n",
        "\n",
        "    # Evaluate the model on the test set\n",
        "    _, test_accuracy = model.evaluate(x_test, y_test)\n",
        "    print('Test Accuracy:', test_accuracy)\n",
        "\n",
        "    # Load the history from the pickle file\n",
        "    with open(history_filepath, 'rb') as f:\n",
        "        history = pickle.load(f)\n",
        "\n",
        "else:\n",
        "    # Create the ResNet50 model\n",
        "    base_model = ResNet50(weights=None, include_top=False, input_shape=(32, 32, 3))\n",
        "\n",
        "    # Add a global average pooling layer\n",
        "    x = base_model.output\n",
        "    x = GlobalAveragePooling2D()(x)\n",
        "\n",
        "    # Add a fully connected layer\n",
        "    x = Dense(256, activation='relu')(x)\n",
        "\n",
        "    # Add the output layer\n",
        "    predictions = Dense(10, activation='softmax')(x)\n",
        "\n",
        "    # Build the final model\n",
        "    model = tf.keras.Model(inputs=base_model.input, outputs=predictions)\n",
        "\n",
        "    # Compile the model\n",
        "    model.compile(optimizer=Adam(learning_rate=0.001),\n",
        "                  loss='categorical_crossentropy',\n",
        "                  metrics=['accuracy'])\n",
        "\n",
        "    # Set the hyperparameters for Mixup augmentation\n",
        "    alpha_values = [0.2, 0.4]\n",
        "\n",
        "    # Training loop\n",
        "    batch_size = 32\n",
        "    num_epochs = 10\n",
        "    history = {}\n",
        "\n",
        "    for alpha in alpha_values:\n",
        "        best_accuracy = 0\n",
        "        print(f\"\\nMixup augmentation with alpha = {alpha}\")\n",
        "        history[alpha] = {'accuracy': [], 'val_accuracy': [], 'loss': [], 'val_loss': []}\n",
        "\n",
        "        for epoch in range(num_epochs):\n",
        "            print(f\"\\nEpoch {epoch+1}/{num_epochs}\")\n",
        "\n",
        "            # Shuffle the training data\n",
        "            indices = np.random.permutation(len(x_train))\n",
        "            x_train_shuffled = x_train[indices]\n",
        "            y_train_shuffled = y_train[indices]\n",
        "\n",
        "            # Create mini-batches with mixup augmentation\n",
        "            for i in range(0, len(x_train_shuffled), batch_size):\n",
        "                x_batch = x_train_shuffled[i:i+batch_size]\n",
        "                y_batch = y_train_shuffled[i:i+batch_size]\n",
        "\n",
        "                # Generate random pairs for mixup augmentation\n",
        "                indices = np.random.choice(len(x_train_shuffled), size=len(x_batch), replace=False)\n",
        "                x_random = x_train_shuffled[indices]\n",
        "                y_random = y_train_shuffled[indices]\n",
        "\n",
        "                # Apply mixup augmentation to the mini-batch\n",
        "                x_mixed, y_mixed = mixup_augmentation(x_batch, y_batch, x_random, y_random, alpha)\n",
        "\n",
        "                # Train the model on the augmented mini-batch\n",
        "                metrics = model.train_on_batch(x_mixed, y_mixed)\n",
        "\n",
        "                # Update the training history\n",
        "                history[alpha]['accuracy'].append(metrics[1])\n",
        "                history[alpha]['loss'].append(metrics[0])\n",
        "\n",
        "            # Evaluate the model on the test set\n",
        "            _, test_accuracy = model.evaluate(x_test, y_test)\n",
        "            print('Test Accuracy:', test_accuracy)\n",
        "\n",
        "            # Append the validation metrics to history\n",
        "            history[alpha]['val_accuracy'].append(test_accuracy)\n",
        "            history[alpha]['val_loss'].append(model.evaluate(x_test, y_test, verbose=0)[0])\n",
        "\n",
        "            # Save the best weights based on validation accuracy\n",
        "            if test_accuracy > best_accuracy:\n",
        "                best_accuracy = test_accuracy\n",
        "                model.save_weights(checkpoint_filepath)\n",
        "\n",
        "        # Save the history to a pickle file\n",
        "        with open(history_filepath, 'wb') as f:\n",
        "            pickle.dump(history, f)\n",
        "\n",
        "        print(\"Training and history saved successfully.\")\n",
        "\n",
        "if history:\n",
        "    import matplotlib.pyplot as plt\n",
        "\n",
        "    for alpha, data in history.items():\n",
        "        # Plot accuracy\n",
        "        plt.plot(data['accuracy'])\n",
        "        plt.plot(data['val_accuracy'])\n",
        "        plt.title(f'Model Accuracy (alpha={alpha})')\n",
        "        plt.xlabel('Epoch')\n",
        "        plt.ylabel('Accuracy')\n",
        "        plt.legend(['Train', 'Test'], loc='upper left')\n",
        "        plt.show()\n",
        "\n",
        "        # Plot loss\n",
        "        plt.plot(data['loss'])\n",
        "        plt.plot(data['val_loss'])\n",
        "        plt.title(f'Model Loss (alpha={alpha})')\n",
        "        plt.xlabel('Epoch')\n",
        "        plt.ylabel('Loss')\n",
        "        plt.legend(['Train', 'Test'], loc='upper right')\n",
        "        plt.show()"
      ]
    },
    {
      "cell_type": "markdown",
      "source": [
        "#Question 3"
      ],
      "metadata": {
        "id": "8GqRtfbMcd7w"
      }
    },
    {
      "cell_type": "code",
      "source": [
        "def apply_cutout(image, mask_size):\n",
        "    height, width, _ = image.shape\n",
        "\n",
        "    mask_center_x = np.random.randint(0, width)\n",
        "    mask_center_y = np.random.randint(0, height)\n",
        "\n",
        "    mask_top = max(0, mask_center_y - mask_size // 2)\n",
        "    mask_bottom = min(height, mask_center_y + mask_size // 2)\n",
        "    mask_left = max(0, mask_center_x - mask_size // 2)\n",
        "    mask_right = min(width, mask_center_x + mask_size // 2)\n",
        "\n",
        "    image[mask_top:mask_bottom, mask_left:mask_right, :] = 0.0\n",
        "\n",
        "    return image\n",
        "\n",
        "drive.mount('/content/drive', force_remount=True)\n",
        "\n",
        "X_Train, Y_Train = sampled_x_train, sampled_y_train \n",
        "X_Test, Y_Test = batch_test[b'data'], batch_test[b'labels']\n",
        "\n",
        "X_Train = X_Train.astype('float32') / 255.0\n",
        "X_Test = X_Test.astype('float32') / 255.0\n",
        "\n",
        "Y_Train = to_categorical(Y_Train, num_classes=10)\n",
        "Y_Test = to_categorical(Y_Test, num_classes=10)\n",
        "\n",
        "X_Test = np.reshape(X_Test, (-1, 32, 32, 3))\n",
        "\n",
        "checkpointFile = '/content/drive/MyDrive/resnet_checkpoint/resnetCutoutBestWeights.h5'\n",
        "historyFile = '/content/drive/MyDrive/resnet_checkpoint/histCutout.npy'\n",
        "\n",
        "model = ResNet50(weights=None, input_shape=(32, 32, 3), classes=10)\n",
        "model.compile(optimizer=Adam(learning_rate=0.001),\n",
        "              loss='categorical_crossentropy',\n",
        "              metrics=['accuracy'])\n",
        "\n",
        "checkpointCallback = ModelCheckpoint(checkpointFile,\n",
        "                                      monitor='val_accuracy',\n",
        "                                      save_best_only=True,\n",
        "                                      mode='max',\n",
        "                                      verbose=1)\n",
        "history = None\n",
        "\n",
        "if os.path.exists(checkpointFile):\n",
        "    model.load_weights(checkpointFile)\n",
        "    if os.path.exists(historyFile):\n",
        "        history = np.load(historyFile, allow_pickle=True).item()\n",
        "\n",
        "else:\n",
        "    mask_size = 16\n",
        "    for i in range(len(X_Train)):\n",
        "        if np.random.rand() < 0.5:\n",
        "            X_Train[i] = apply_cutout(X_Train[i], mask_size)\n",
        "\n",
        "    history = model.fit(X_Train, Y_Train,\n",
        "                        batch_size=32,\n",
        "                        epochs=10,\n",
        "                        validation_data=(X_Test, Y_Test),\n",
        "                        callbacks=[checkpointCallback])\n",
        "    \n",
        "    np.save(historyFile, history.history)\n",
        "    model.load_weights(checkpointFile)\n",
        "    history = np.load(historyFile, allow_pickle=True).item()\n",
        "\n",
        "if history:\n",
        "    plt.plot(history['accuracy'])\n",
        "    plt.plot(history['val_accuracy'])\n",
        "    plt.title('Model Accuracy')\n",
        "    plt.xlabel('Epoch')\n",
        "    plt.ylabel('Accuracy')\n",
        "    plt.legend(['Train', 'Test'], loc='upper left')\n",
        "    plt.show()\n",
        "\n",
        "    plt.plot(history['loss'])\n",
        "    plt.plot(history['val_loss'])\n",
        "    plt.title('Model Loss')\n",
        "    plt.xlabel('Epoch')\n",
        "    plt.ylabel('Loss')\n",
        "    plt.legend(['Train', 'Test'], loc='upper right')\n",
        "    plt.show()\n",
        "\n",
        "_, testAccuracy = model.evaluate(X_Test, Y_Test)\n",
        "print('Test Accuracy: %.3f' % testAccuracy)"
      ],
      "metadata": {
        "colab": {
          "base_uri": "https://localhost:8080/"
        },
        "id": "E6neyKD9OYi7",
        "outputId": "c63c8d05-3910-435f-f615-19bd351cd023"
      },
      "execution_count": null,
      "outputs": [
        {
          "output_type": "stream",
          "name": "stdout",
          "text": [
            "Mounted at /content/drive\n",
            "Epoch 1/10\n",
            "313/313 [==============================] - ETA: 0s - loss: 2.5555 - accuracy: 0.2293\n",
            "Epoch 1: val_accuracy improved from -inf to 0.13160, saving model to /content/drive/MyDrive/resnet_checkpoint/resnetCutoutBestWeights.h5\n",
            "313/313 [==============================] - 949s 3s/step - loss: 2.5555 - accuracy: 0.2293 - val_loss: 2.6423 - val_accuracy: 0.1316\n",
            "Epoch 2/10\n",
            "313/313 [==============================] - ETA: 0s - loss: 2.4349 - accuracy: 0.2682\n",
            "Epoch 2: val_accuracy improved from 0.13160 to 0.26570, saving model to /content/drive/MyDrive/resnet_checkpoint/resnetCutoutBestWeights.h5\n",
            "313/313 [==============================] - 910s 3s/step - loss: 2.4349 - accuracy: 0.2682 - val_loss: 33.5472 - val_accuracy: 0.2657\n",
            "Epoch 3/10\n",
            "313/313 [==============================] - ETA: 0s - loss: 2.4516 - accuracy: 0.2314\n",
            "Epoch 3: val_accuracy did not improve from 0.26570\n",
            "313/313 [==============================] - 916s 3s/step - loss: 2.4516 - accuracy: 0.2314 - val_loss: 4.4397 - val_accuracy: 0.1745\n",
            "Epoch 4/10\n",
            " 82/313 [======>.......................] - ETA: 12:30 - loss: 2.2921 - accuracy: 0.2565"
          ]
        }
      ]
    },
    {
      "cell_type": "markdown",
      "source": [
        "#Question 4"
      ],
      "metadata": {
        "id": "HANcOzMXcarF"
      }
    },
    {
      "cell_type": "code",
      "source": [
        "def apply_standard_augmentation(image, K):\n",
        "    height, width, _ = image.shape\n",
        "\n",
        "    k1 = np.random.randint(-K, K + 1)\n",
        "    k2 = np.random.randint(-K, K + 1)\n",
        "\n",
        "    image = np.roll(image, k1, axis=0)\n",
        "    image = np.roll(image, k2, axis=1)\n",
        "\n",
        "    if np.random.rand() < 0.5:\n",
        "        image = np.fliplr(image)\n",
        "\n",
        "    return image\n",
        "\n",
        "drive.mount('/content/drive', force_remount=True)\n",
        "\n",
        "X_Train, Y_Train = sampled_x_train, sampled_y_train \n",
        "X_Test, Y_Test = batch_test[b'data'], batch_test[b'labels']\n",
        "\n",
        "X_Train = X_Train.astype('float32') / 255.0\n",
        "X_Test = X_Test.astype('float32') / 255.0\n",
        "\n",
        "Y_Train = to_categorical(Y_Train, num_classes=10)\n",
        "Y_Test = to_categorical(Y_Test, num_classes=10)\n",
        "\n",
        "X_Test = np.reshape(X_Test, (-1, 32, 32, 3))\n",
        "\n",
        "checkpointFile = '/content/drive/MyDrive/resnet_checkpoint/resnetStandardBestWeights.h5'\n",
        "historyFile = '/content/drive/MyDrive/resnet_checkpoint/histStandard.npy'\n",
        "\n",
        "model = ResNet50(weights=None, input_shape=(32, 32, 3), classes=10)\n",
        "model.compile(optimizer=Adam(learning_rate=0.001),\n",
        "              loss='categorical_crossentropy',\n",
        "              metrics=['accuracy'])\n",
        "\n",
        "checkpointCallback = ModelCheckpoint(checkpointFile,\n",
        "                                      monitor='val_accuracy',\n",
        "                                      save_best_only=True,\n",
        "                                      mode='max',\n",
        "                                      verbose=1)\n",
        "history = None\n",
        "\n",
        "if os.path.exists(checkpointFile):\n",
        "    model.load_weights(checkpointFile)\n",
        "    if os.path.exists(historyFile):\n",
        "        history = np.load(historyFile, allow_pickle=True).item()\n",
        "\n",
        "else:\n",
        "    K = 4\n",
        "    for i in range(len(X_Train)):\n",
        "        X_Train[i] = apply_standard_augmentation(X_Train[i], K)\n",
        "\n",
        "    history = model.fit(X_Train, Y_Train,\n",
        "                        batch_size=32,\n",
        "                        epochs=10,\n",
        "                        validation_data=(X_Test, Y_Test),\n",
        "                        callbacks=[checkpointCallback])\n",
        "    \n",
        "    np.save(historyFile, history.history)\n",
        "    model.load_weights(checkpointFile)\n",
        "    history = np.load(historyFile, allow_pickle=True).item()\n",
        "\n",
        "if history:\n",
        "    plt.plot(history['accuracy'])\n",
        "    plt.plot(history['val_accuracy'])\n",
        "    plt.title('Model Accuracy')\n",
        "    plt.xlabel('Epoch')\n",
        "    plt.ylabel('Accuracy')\n",
        "    plt.legend(['Train', 'Test'], loc='upper left')\n",
        "    plt.show()\n",
        "\n",
        "    plt.plot(history['loss'])\n",
        "    plt.plot(history['val_loss'])\n",
        "    plt.title('Model Loss')\n",
        "    plt.xlabel('Epoch')\n",
        "    plt.ylabel('Loss')\n",
        "    plt.legend(['Train', 'Test'], loc='upper right')\n",
        "    plt.show()\n",
        "\n",
        "_, testAccuracy = model.evaluate(X_Test, Y_Test)\n",
        "print('Test Accuracy: %.3f' % testAccuracy)"
      ],
      "metadata": {
        "id": "y3y4jR0oXdWp"
      },
      "execution_count": null,
      "outputs": []
    },
    {
      "cell_type": "markdown",
      "source": [
        "#Question 5"
      ],
      "metadata": {
        "id": "ZWitR-b3cVhW"
      }
    },
    {
      "cell_type": "code",
      "source": [
        "drive.mount('/content/drive', force_remount=True)\n",
        "\n",
        "def apply_standard_augmentation(image, K):\n",
        "    height, width, _ = image.shape\n",
        "\n",
        "    k1 = np.random.randint(-K, K + 1)\n",
        "    k2 = np.random.randint(-K, K + 1)\n",
        "\n",
        "    image = np.roll(image, k1, axis=0)\n",
        "    image = np.roll(image, k2, axis=1)\n",
        "\n",
        "    if np.random.rand() < 0.5:\n",
        "        image = np.fliplr(image)\n",
        "\n",
        "    return image\n",
        "  \n",
        "def apply_cutout(image, mask_size):\n",
        "    height, width, _ = image.shape\n",
        "\n",
        "    mask_center_x = np.random.randint(0, width)\n",
        "    mask_center_y = np.random.randint(0, height)\n",
        "\n",
        "    mask_top = max(0, mask_center_y - mask_size // 2)\n",
        "    mask_bottom = min(height, mask_center_y + mask_size // 2)\n",
        "    mask_left = max(0, mask_center_x - mask_size // 2)\n",
        "    mask_right = min(width, mask_center_x + mask_size // 2)\n",
        "\n",
        "    image[mask_top:mask_bottom, mask_left:mask_right, :] = 0.0\n",
        "\n",
        "    return image\n",
        "\n",
        "def mixup_augmentation(x1, y1, x2, y2, alpha):\n",
        "    lam = np.random.beta(alpha, alpha)\n",
        "    mixed_x = lam * x1 + (1 - lam) * x2\n",
        "    mixed_y = lam * y1 + (1 - lam) * y2\n",
        "    return mixed_x, mixed_y\n",
        "\n",
        "X_Train, Y_Train = sampled_x_train, sampled_y_train \n",
        "X_Test, Y_Test = batch_test[b'data'], batch_test[b'labels']\n",
        "\n",
        "X_Train = X_Train.astype('float32') / 255.0\n",
        "X_Test = X_Test.astype('float32') / 255.0\n",
        "\n",
        "Y_Train = to_categorical(Y_Train, num_classes=10)\n",
        "Y_Test = to_categorical(Y_Test, num_classes=10)\n",
        "\n",
        "X_Test = np.reshape(X_Test, (-1, 32, 32, 3))\n",
        "\n",
        "checkpointFile = '/content/drive/MyDrive/resnet_checkpoint/resnetCombinedBestWeights.h5'\n",
        "historyFile = '/content/drive/MyDrive/resnet_checkpoint/histCombined.npy'\n",
        "\n",
        "model = ResNet50(weights=None, input_shape=(32, 32, 3), classes=10)\n",
        "model.compile(optimizer=Adam(learning_rate=0.001),\n",
        "              loss='categorical_crossentropy',\n",
        "              metrics=['accuracy'])\n",
        "\n",
        "checkpointCallback = ModelCheckpoint(checkpointFile,\n",
        "                                      monitor='val_accuracy',\n",
        "                                      save_best_only=True,\n",
        "                                      mode='max',\n",
        "                                      verbose=1)\n",
        "history = None\n",
        "\n",
        "if os.path.exists(checkpointFile):\n",
        "    model.load_weights(checkpointFile)\n",
        "    if os.path.exists(historyFile):\n",
        "        history = np.load(historyFile, allow_pickle=True).item()\n",
        "\n",
        "else:\n",
        "    cutout_K = 16\n",
        "    cutout_prob = 0.5\n",
        "\n",
        "    # Using 0.4 since it gave a higher test accuracy\n",
        "    mixup_alpha = 0.4\n",
        "\n",
        "    standard_K = 4\n",
        "    standard_prob = 0.5\n",
        "\n",
        "    for epoch in range(10):\n",
        "        print('Epoch:', epoch+1)\n",
        "\n",
        "        for i in range(len(X_Train)):\n",
        "            if np.random.rand() < cutout_prob:\n",
        "                X_Train[i] = apply_cutout(X_Train[i], cutout_K)\n",
        "\n",
        "            rand_index = np.random.randint(0, len(X_Train))\n",
        "            X_Train[i], Y_Train[i] = mixup_augmentation(X_Train[i], Y_Train[i], X_Train[rand_index], Y_Train[rand_index], mixup_alpha)\n",
        "\n",
        "            X_Train[i] = apply_standard_augmentation(X_Train[i], K)\n",
        "        \n",
        "        history = model.fit(X_Train, Y_Train,\n",
        "                            batch_size=32,\n",
        "                            epochs=1,\n",
        "                            validation_data=(X_Test, Y_Test),\n",
        "                            callbacks=[checkpointCallback])\n",
        "\n",
        "        np.save(historyFile, history.history)\n",
        "\n",
        "    model.load_weights(checkpointFile)\n",
        "    history = np.load(historyFile, allow_pickle=True).item()\n",
        "\n",
        "if history:\n",
        "    plt.plot(history['accuracy'])\n",
        "    plt.plot(history['val_accuracy'])\n",
        "    plt.title('Model Accuracy')\n",
        "    plt.xlabel('Epoch')\n",
        "    plt.ylabel('Accuracy')\n",
        "    plt.legend(['Train', 'Test'], loc='upper left')\n",
        "    plt.show()\n",
        "\n",
        "    plt.plot(history['loss'])\n",
        "    plt.plot(history['val_loss'])\n",
        "    plt.title('Model Loss')\n",
        "    plt.xlabel('Epoch')\n",
        "    plt.ylabel('Loss')\n",
        "    plt.legend(['Train', 'Test'], loc='upper right')\n",
        "    plt.show()\n",
        "\n",
        "_, testAccuracy = model.evaluate(X_Test, Y_Test)\n",
        "print('Test Accuracy: %.3f' % testAccuracy)"
      ],
      "metadata": {
        "id": "sCexP-oWXqHo"
      },
      "execution_count": null,
      "outputs": []
    }
  ],
  "metadata": {
    "colab": {
      "provenance": []
    },
    "kernelspec": {
      "display_name": "Python 3",
      "name": "python3"
    },
    "language_info": {
      "name": "python"
    }
  },
  "nbformat": 4,
  "nbformat_minor": 0
}